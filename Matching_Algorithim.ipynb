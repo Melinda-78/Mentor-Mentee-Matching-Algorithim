{
  "nbformat": 4,
  "nbformat_minor": 0,
  "metadata": {
    "colab": {
      "provenance": []
    },
    "kernelspec": {
      "name": "python3",
      "display_name": "Python 3"
    },
    "language_info": {
      "name": "python"
    }
  },
  "cells": [
    {
      "cell_type": "markdown",
      "source": [
        "**MENTOR AND MENTEE MATCHING ALGORITHIM**"
      ],
      "metadata": {
        "id": "uYgV-11_SY3h"
      }
    },
    {
      "cell_type": "code",
      "execution_count": 1,
      "metadata": {
        "id": "klEIDzMYSR6B"
      },
      "outputs": [],
      "source": [
        "import random\n",
        "import pandas as pd"
      ]
    },
    {
      "cell_type": "code",
      "source": [
        "# Step 1: Defining possible options for mentors and mentees\n",
        "\n",
        "\n",
        "#1:MOTIVATION\n",
        "#primary motivations for becoming a mentor\n",
        "mentor_motivations = [\"Giving back to the community\", \"Expanding professional network\",\"Developing leadership and mentorship skills\",\"Sharing expertise and knowledge\", \"Understanding the younger generation\"]\n",
        "#primary motivation for seeking a mentor\n",
        "mentee_motivations = [\"Career guidance and advancements\", \"Expanding professional network\", \"Gaining industry knowledge\", \"Personal growth and development\",\"Developing specific skills\"]\n",
        "\n",
        "#2:GOALS\n",
        "#what the mentor hopes to gain from the mentorship experience\n",
        "mentor_goals = [\"Developing mentorship and coaching skills\", \"Gaining new perspective and insights\", \"Building relationships and expanding my network\", \"Contributing to the success of others\"]\n",
        "#what the mentee hopes to achieve through the mentorship experience\n",
        "mentee_goals = [\"Accelerated career growth and development\",\"Expanded professional network and connections\",\"Increased confidence and self-awareness\",\"Clear career path and direction\"]\n",
        "\n",
        "#3:SKILLS\n",
        "#Areas of experience to share with a mentee\n",
        "mentor_skills = [\"Career development and advancement\",\"Technical skills and knowledge\",\"Industry-specific knowledge and insights\",\"Leadership and management\"]\n",
        "#Areas of knowledge sought by mentees\n",
        "mentee_skills = [\"Career advice and guidance\",\"Technical skills and knowledge\",\"Industry-specific insights and trends\",\"Networking opportunities and connections\"]\n",
        "\n",
        "#4:VALUES\n",
        "#qualities valued by mentors\n",
        "mentor_values = [\"Initiative and self-motivation\",\"Eagerness to learn and grow\",\"Open-mindedness and willingness to receive feedback\",\"Clear career goals and aspirations\"]\n",
        "#qualities valued by mentees\n",
        "mentee_values = [\"Experience and expertise in my field of interest\",\"Strong leadership and communication skills\",\"Empathy and understanding\",\"Willingness to provide constructive feedback\"]\n",
        "\n",
        "#5:TIME COMMITMENT\n",
        "time_commitment = [\"Weekly meetings\",\"Bi-weekly meetings\",\"Monthly meetings\",\"Ad-hoc availability as needed\"]\n",
        "\n",
        "#6:COMMUNICATION MODES\n",
        "communication_modes = [\"In-person meetings\", \"Virtual meetings\", \"Email\", \"Phone calls\"]\n",
        "importance_levels = [1, 2, 3, 4, 5]  # 1 = Not Important, 5 = Extremely Important"
      ],
      "metadata": {
        "id": "dB4hjuwDSvLS"
      },
      "execution_count": 2,
      "outputs": []
    },
    {
      "cell_type": "code",
      "source": [
        "# Function to assign unique importance ratings for a list of options\n",
        "def assign_unique_importance(options):\n",
        "    available_importance = [1, 2, 3, 4, 5]  # Importance levels must be unique\n",
        "    importance_assignment = {}\n",
        "\n",
        "    for option in options:\n",
        "        rating = random.choice(available_importance)  # Randomly assign unique importance for simplicity\n",
        "        importance_assignment[option] = rating\n",
        "        available_importance.remove(rating)  # Remove chosen importance level from the list\n",
        "\n",
        "    return importance_assignment # Return the importance_assignment dictionary"
      ],
      "metadata": {
        "id": "piY70vVpjcA8"
      },
      "execution_count": 3,
      "outputs": []
    },
    {
      "cell_type": "code",
      "source": [
        "#creating a mentor profile with Mentor_ID\n",
        "def generate_mentor_profile(mentor_id):\n",
        "    mentor_profile = {\n",
        "        'Mentor_ID': f'Mentor_{mentor_id}',  # Add unique Mentor_ID\n",
        "        'Motivation': random.choice(mentor_motivations),\n",
        "        'Goal': random.choice(mentor_goals),\n",
        "        'Skills_to_Share': random.choice(mentor_skills),\n",
        "        'Values': random.choice(mentor_values),\n",
        "        'Time_Commitment': random.choice(time_commitment),\n",
        "        'Communication_Mode': random.choice(communication_modes),\n",
        "        # Assign unique importance ratings to each aspect\n",
        "        'Importance_Motivation': assign_unique_importance(mentor_motivations),\n",
        "        'Importance_Goal': assign_unique_importance(mentor_goals),\n",
        "        'Importance_Skills_to_Share': assign_unique_importance(mentor_skills),\n",
        "        'Importance_Values': assign_unique_importance(mentor_values),\n",
        "        'Importance_Time_Commitment': assign_unique_importance(time_commitment),\n",
        "        'Importance_Communication_Mode': assign_unique_importance(communication_modes)\n",
        "    }\n",
        "    return mentor_profile\n"
      ],
      "metadata": {
        "id": "NZ3D7wdNnCwj"
      },
      "execution_count": 4,
      "outputs": []
    },
    {
      "cell_type": "code",
      "source": [
        "# Function to create a mentee profile with Mentee_ID, ensuring some compatibility\n",
        "def generate_mentee_profile(mentee_id, common_goal=None):\n",
        "    mentee_profile = {\n",
        "        'Mentee_ID': f'Mentee_{mentee_id}',  # Add unique Mentee_ID\n",
        "        'Motivation': random.choice(mentee_motivations),\n",
        "        'Goal': common_goal if common_goal else random.choice(mentee_goals),\n",
        "        'Skills_Desired': random.choice(mentee_skills),\n",
        "        'Values': random.choice(mentee_values),\n",
        "        'Time_Commitment': random.choice(time_commitment),\n",
        "        'Communication_Mode': random.choice(communication_modes),\n",
        "        # Assign unique importance ratings to each aspect\n",
        "        'Importance_Motivation': assign_unique_importance(mentee_motivations),\n",
        "        'Importance_Goal': assign_unique_importance(mentee_goals),\n",
        "        'Importance_Skills_Desired': assign_unique_importance(mentee_skills),\n",
        "        'Importance_Values': assign_unique_importance(mentee_values),\n",
        "        'Importance_Time_Commitment': assign_unique_importance(time_commitment),\n",
        "        'Importance_Communication_Mode': assign_unique_importance(communication_modes)\n",
        "    }\n",
        "    return mentee_profile"
      ],
      "metadata": {
        "id": "5juKCORFs7no"
      },
      "execution_count": 5,
      "outputs": []
    },
    {
      "cell_type": "code",
      "source": [
        "#Generate mentor profiles for 25 mentors\n",
        "mentor_profiles = [generate_mentor_profile(i+1) for i in range(25)]"
      ],
      "metadata": {
        "id": "0TTQvpXdnuqd"
      },
      "execution_count": 6,
      "outputs": []
    },
    {
      "cell_type": "code",
      "source": [
        "#Generate mentee profiles for 50 mentees\n",
        "mentee_profiles = []\n",
        "for i in range(50):\n",
        "    common_goal = random.choice(mentor_goals) if i < 25 else None  # First 25 mentees have common goals\n",
        "    mentee_profiles.append(generate_mentee_profile(i+1, common_goal))"
      ],
      "metadata": {
        "id": "4BcQ8ugCsn7d"
      },
      "execution_count": 7,
      "outputs": []
    },
    {
      "cell_type": "code",
      "source": [
        "#Convert lists to DataFrames for easier manipulation\n",
        "mentor_df = pd.DataFrame(mentor_profiles)\n",
        "mentee_df = pd.DataFrame(mentee_profiles)"
      ],
      "metadata": {
        "id": "TUROvL0ozpBg"
      },
      "execution_count": 8,
      "outputs": []
    },
    {
      "cell_type": "code",
      "source": [
        "#Display mentor and mentee data\n",
        "print(mentor_df.head(2))"
      ],
      "metadata": {
        "colab": {
          "base_uri": "https://localhost:8080/"
        },
        "id": "XcTEElcITux5",
        "outputId": "9f8e0782-ec43-45a7-c656-87528bd2eed6"
      },
      "execution_count": 9,
      "outputs": [
        {
          "output_type": "stream",
          "name": "stdout",
          "text": [
            "  Mentor_ID                            Motivation  \\\n",
            "0  Mentor_1          Giving back to the community   \n",
            "1  Mentor_2  Understanding the younger generation   \n",
            "\n",
            "                                        Goal  \\\n",
            "0  Developing mentorship and coaching skills   \n",
            "1  Developing mentorship and coaching skills   \n",
            "\n",
            "                            Skills_to_Share                          Values  \\\n",
            "0                 Leadership and management  Initiative and self-motivation   \n",
            "1  Industry-specific knowledge and insights  Initiative and self-motivation   \n",
            "\n",
            "      Time_Commitment Communication_Mode  \\\n",
            "0  Bi-weekly meetings              Email   \n",
            "1    Monthly meetings   Virtual meetings   \n",
            "\n",
            "                               Importance_Motivation  \\\n",
            "0  {'Giving back to the community': 1, 'Expanding...   \n",
            "1  {'Giving back to the community': 5, 'Expanding...   \n",
            "\n",
            "                                     Importance_Goal  \\\n",
            "0  {'Developing mentorship and coaching skills': ...   \n",
            "1  {'Developing mentorship and coaching skills': ...   \n",
            "\n",
            "                          Importance_Skills_to_Share  \\\n",
            "0  {'Career development and advancement': 5, 'Tec...   \n",
            "1  {'Career development and advancement': 3, 'Tec...   \n",
            "\n",
            "                                   Importance_Values  \\\n",
            "0  {'Initiative and self-motivation': 1, 'Eagerne...   \n",
            "1  {'Initiative and self-motivation': 1, 'Eagerne...   \n",
            "\n",
            "                          Importance_Time_Commitment  \\\n",
            "0  {'Weekly meetings': 2, 'Bi-weekly meetings': 1...   \n",
            "1  {'Weekly meetings': 1, 'Bi-weekly meetings': 3...   \n",
            "\n",
            "                       Importance_Communication_Mode  \n",
            "0  {'In-person meetings': 1, 'Virtual meetings': ...  \n",
            "1  {'In-person meetings': 5, 'Virtual meetings': ...  \n"
          ]
        }
      ]
    },
    {
      "cell_type": "code",
      "source": [
        "print(mentee_df.head(2))"
      ],
      "metadata": {
        "colab": {
          "base_uri": "https://localhost:8080/"
        },
        "id": "FKnaa9UXhpe6",
        "outputId": "b5a95579-3046-460b-e332-3bff3392695a"
      },
      "execution_count": 10,
      "outputs": [
        {
          "output_type": "stream",
          "name": "stdout",
          "text": [
            "  Mentee_ID                       Motivation  \\\n",
            "0  Mentee_1  Personal growth and development   \n",
            "1  Mentee_2   Expanding professional network   \n",
            "\n",
            "                                        Goal  \\\n",
            "0  Developing mentorship and coaching skills   \n",
            "1       Gaining new perspective and insights   \n",
            "\n",
            "                             Skills_Desired  \\\n",
            "0  Networking opportunities and connections   \n",
            "1            Technical skills and knowledge   \n",
            "\n",
            "                                       Values                Time_Commitment  \\\n",
            "0  Strong leadership and communication skills  Ad-hoc availability as needed   \n",
            "1  Strong leadership and communication skills  Ad-hoc availability as needed   \n",
            "\n",
            "  Communication_Mode                              Importance_Motivation  \\\n",
            "0        Phone calls  {'Career guidance and advancements': 5, 'Expan...   \n",
            "1              Email  {'Career guidance and advancements': 4, 'Expan...   \n",
            "\n",
            "                                     Importance_Goal  \\\n",
            "0  {'Accelerated career growth and development': ...   \n",
            "1  {'Accelerated career growth and development': ...   \n",
            "\n",
            "                           Importance_Skills_Desired  \\\n",
            "0  {'Career advice and guidance': 5, 'Technical s...   \n",
            "1  {'Career advice and guidance': 2, 'Technical s...   \n",
            "\n",
            "                                   Importance_Values  \\\n",
            "0  {'Experience and expertise in my field of inte...   \n",
            "1  {'Experience and expertise in my field of inte...   \n",
            "\n",
            "                          Importance_Time_Commitment  \\\n",
            "0  {'Weekly meetings': 1, 'Bi-weekly meetings': 5...   \n",
            "1  {'Weekly meetings': 4, 'Bi-weekly meetings': 1...   \n",
            "\n",
            "                       Importance_Communication_Mode  \n",
            "0  {'In-person meetings': 5, 'Virtual meetings': ...  \n",
            "1  {'In-person meetings': 1, 'Virtual meetings': ...  \n"
          ]
        }
      ]
    },
    {
      "cell_type": "markdown",
      "source": [
        "**MATCHING ALGORITHIM**"
      ],
      "metadata": {
        "id": "4JwMI5FJ5IEZ"
      }
    },
    {
      "cell_type": "code",
      "source": [
        "#defining weights for each matching criterion\n",
        "weights = {\n",
        "    'Goals': 6,\n",
        "    'Skills': 7,\n",
        "    'Values': 5,\n",
        "    'Time_Commitment': 3,\n",
        "    'Communication_Mode': 2\n",
        "}"
      ],
      "metadata": {
        "id": "2rmRVWJPUFBQ"
      },
      "execution_count": 11,
      "outputs": []
    },
    {
      "cell_type": "code",
      "source": [
        "def calculate_match_score(mentor, mentee):\n",
        "    score = 0\n",
        "\n",
        "    # Goal Alignment\n",
        "    if mentor['Goal'] == mentee['Goal'] and mentor['Goal'] in mentor['Importance_Goal'] and mentee['Goal'] in mentee['Importance_Goal']:\n",
        "        score += weights['Goals'] * (mentor['Importance_Goal'][mentor['Goal']] + mentee['Importance_Goal'][mentee['Goal']]) / 2\n",
        "\n",
        "    # Skills Alignment\n",
        "    if mentor['Skills_to_Share'] == mentee['Skills_Desired'] and mentor['Skills_to_Share'] in mentor['Importance_Skills_to_Share'] and mentee['Skills_Desired'] in mentee['Importance_Skills_Desired']:\n",
        "        score += weights['Skills'] * (mentor['Importance_Skills_to_Share'][mentor['Skills_to_Share']] + mentee['Importance_Skills_Desired'][mentee['Skills_Desired']]) / 2\n",
        "\n",
        "    # Values Alignment\n",
        "    if mentor['Values'] == mentee['Values'] and mentor['Values'] in mentor['Importance_Values'] and mentee['Values'] in mentee['Importance_Values']:\n",
        "        score += weights['Values'] * (mentor['Importance_Values'][mentor['Values']] + mentee['Importance_Values'][mentee['Values']]) / 2\n",
        "\n",
        "    # Time Commitment Alignment\n",
        "    if mentor['Time_Commitment'] == mentee['Time_Commitment'] and mentor['Time_Commitment'] in mentor['Importance_Time_Commitment'] and mentee['Time_Commitment'] in mentee['Importance_Time_Commitment']:\n",
        "        score += weights['Time_Commitment'] * (mentor['Importance_Time_Commitment'][mentor['Time_Commitment']] + mentee['Importance_Time_Commitment'][mentee['Time_Commitment']]) / 2\n",
        "\n",
        "    # Communication Style Alignment\n",
        "    if mentor['Communication_Mode'] == mentee['Communication_Mode'] and mentor['Communication_Mode'] in mentor['Importance_Communication_Mode'] and mentee['Communication_Mode'] in mentee['Importance_Communication_Mode']:\n",
        "        score += weights['Communication_Mode'] * (mentor['Importance_Communication_Mode'][mentor['Communication_Mode']] + mentee['Importance_Communication_Mode'][mentee['Communication_Mode']]) / 2\n",
        "\n",
        "    return score"
      ],
      "metadata": {
        "id": "6VDrvxzUt1aW"
      },
      "execution_count": 12,
      "outputs": []
    },
    {
      "cell_type": "code",
      "source": [
        "# Function to match mentors with mentees, ensuring each mentor has at least one mentee\n",
        "def match_mentors_with_mentees(mentors, mentees):\n",
        "    matches = []\n",
        "    mentor_assigned = {mentor['Mentor_ID']: False for _, mentor in mentors.iterrows()}  # Track if mentors have been assigned a mentee\n",
        "\n",
        "    # First round: Try to find the best match for each mentee\n",
        "    for _, mentee in mentees.iterrows():\n",
        "        best_match = None\n",
        "        highest_score = 0\n",
        "\n",
        "        for _, mentor in mentors.iterrows():\n",
        "            score = calculate_match_score(mentor, mentee)\n",
        "            if score > highest_score:\n",
        "                highest_score = score\n",
        "                best_match = mentor\n",
        "\n",
        "        if best_match is not None:\n",
        "            mentor_assigned[best_match['Mentor_ID']] = True  # Mark mentor as assigned\n",
        "            matches.append({\n",
        "                'Mentee_ID': mentee['Mentee_ID'],\n",
        "                'Mentor_ID': best_match['Mentor_ID'],\n",
        "                'Mentee_Goals': mentee['Goal'],\n",
        "                'Mentor_Goals': best_match['Goal'],\n",
        "                'Mentee_Skills_Desired': mentee['Skills_Desired'],\n",
        "                'Mentor_Skills_to_Share': best_match['Skills_to_Share'],\n",
        "                'Mentee_Values': mentee['Values'],\n",
        "                'Mentor_Values': best_match['Values'],\n",
        "                'Mentee_Time_Commitment': mentee['Time_Commitment'],\n",
        "                'Mentor_Time_Commitment': best_match['Time_Commitment'],\n",
        "                'Mentee_Communication_Mode': mentee['Communication_Mode'],\n",
        "                'Mentor_Communication_Mode': best_match['Communication_Mode'],\n",
        "                'Compatibility_Score': highest_score\n",
        "            })\n",
        "\n",
        "    # Second round: Ensure every mentor has at least one mentee\n",
        "    unmatched_mentors = [mentor for _, mentor in mentors.iterrows() if not mentor_assigned[mentor['Mentor_ID']]]\n",
        "\n",
        "    for mentor in unmatched_mentors:\n",
        "        # Reassign some mentees to unmatched mentors\n",
        "        for _, mentee in mentees.iterrows():\n",
        "            # If a mentee has already been matched, but the mentor has no mentee, assign them\n",
        "            already_matched = any(match['Mentee_ID'] == mentee['Mentee_ID'] for match in matches)\n",
        "            if already_matched:\n",
        "                score = calculate_match_score(mentor, mentee)\n",
        "                matches.append({\n",
        "                    'Mentee_ID': mentee['Mentee_ID'],\n",
        "                    'Mentor_ID': mentor['Mentor_ID'],\n",
        "                    'Mentee_Goals': mentee['Goal'],\n",
        "                    'Mentor_Goals': mentor['Goal'],\n",
        "                    'Mentee_Skills_Desired': mentee['Skills_Desired'],\n",
        "                    'Mentor_Skills_to_Share': mentor['Skills_to_Share'],\n",
        "                    'Mentee_Values': mentee['Values'],\n",
        "                    'Mentor_Values': mentor['Values'],\n",
        "                    'Mentee_Time_Commitment': mentee['Time_Commitment'],\n",
        "                    'Mentor_Time_Commitment': mentor['Time_Commitment'],\n",
        "                    'Mentee_Communication_Mode': mentee['Communication_Mode'],\n",
        "                    'Mentor_Communication_Mode': mentor['Communication_Mode'],\n",
        "                    'Compatibility_Score': score\n",
        "                })\n",
        "                mentor_assigned[mentor['Mentor_ID']] = True  # Mark the mentor as matched\n",
        "                break\n",
        "\n",
        "    return pd.DataFrame(matches)"
      ],
      "metadata": {
        "id": "UWRT28HJTMWb"
      },
      "execution_count": 13,
      "outputs": []
    },
    {
      "cell_type": "code",
      "source": [
        "# Run the matching algorithm\n",
        "matches_df = match_mentors_with_mentees(mentor_df, mentee_df)\n",
        "\n",
        "# Save the result to a CSV file with all variables included\n",
        "matches_df.to_csv('mentor_mentee_matches.csv', index=False)\n",
        "\n",
        "print(\"Matching complete. Matches saved as 'mentor_mentee_matches.csv'.\")"
      ],
      "metadata": {
        "colab": {
          "base_uri": "https://localhost:8080/"
        },
        "id": "VuwQ81qJtqDO",
        "outputId": "825e56d9-c1d5-46a0-f559-980d0d5ea494"
      },
      "execution_count": 14,
      "outputs": [
        {
          "output_type": "stream",
          "name": "stdout",
          "text": [
            "Matching complete. Matches saved as 'mentor_mentee_matches.csv'.\n"
          ]
        }
      ]
    },
    {
      "cell_type": "code",
      "source": [
        "#download the csv\n",
        "\n",
        "from google.colab import files\n",
        "\n",
        "files.download('mentor_mentee_matches.csv')"
      ],
      "metadata": {
        "colab": {
          "base_uri": "https://localhost:8080/",
          "height": 17
        },
        "id": "7XzecKad5zyr",
        "outputId": "1936a12c-d3be-472a-b907-39488a834b9a"
      },
      "execution_count": 15,
      "outputs": [
        {
          "output_type": "display_data",
          "data": {
            "text/plain": [
              "<IPython.core.display.Javascript object>"
            ],
            "application/javascript": [
              "\n",
              "    async function download(id, filename, size) {\n",
              "      if (!google.colab.kernel.accessAllowed) {\n",
              "        return;\n",
              "      }\n",
              "      const div = document.createElement('div');\n",
              "      const label = document.createElement('label');\n",
              "      label.textContent = `Downloading \"${filename}\": `;\n",
              "      div.appendChild(label);\n",
              "      const progress = document.createElement('progress');\n",
              "      progress.max = size;\n",
              "      div.appendChild(progress);\n",
              "      document.body.appendChild(div);\n",
              "\n",
              "      const buffers = [];\n",
              "      let downloaded = 0;\n",
              "\n",
              "      const channel = await google.colab.kernel.comms.open(id);\n",
              "      // Send a message to notify the kernel that we're ready.\n",
              "      channel.send({})\n",
              "\n",
              "      for await (const message of channel.messages) {\n",
              "        // Send a message to notify the kernel that we're ready.\n",
              "        channel.send({})\n",
              "        if (message.buffers) {\n",
              "          for (const buffer of message.buffers) {\n",
              "            buffers.push(buffer);\n",
              "            downloaded += buffer.byteLength;\n",
              "            progress.value = downloaded;\n",
              "          }\n",
              "        }\n",
              "      }\n",
              "      const blob = new Blob(buffers, {type: 'application/binary'});\n",
              "      const a = document.createElement('a');\n",
              "      a.href = window.URL.createObjectURL(blob);\n",
              "      a.download = filename;\n",
              "      div.appendChild(a);\n",
              "      a.click();\n",
              "      div.remove();\n",
              "    }\n",
              "  "
            ]
          },
          "metadata": {}
        },
        {
          "output_type": "display_data",
          "data": {
            "text/plain": [
              "<IPython.core.display.Javascript object>"
            ],
            "application/javascript": [
              "download(\"download_8c25e33f-1a56-423f-a2eb-d1bb3323cf73\", \"mentor_mentee_matches.csv\", 20111)"
            ]
          },
          "metadata": {}
        }
      ]
    }
  ]
}